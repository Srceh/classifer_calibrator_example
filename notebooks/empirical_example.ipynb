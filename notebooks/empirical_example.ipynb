{
 "cells": [
  {
   "cell_type": "code",
   "execution_count": null,
   "metadata": {},
   "outputs": [],
   "source": [
    "import sys; sys.path.insert(0, '..')"
   ]
  },
  {
   "cell_type": "code",
   "execution_count": null,
   "metadata": {},
   "outputs": [],
   "source": [
    "import numpy\n",
    "import tqdm\n",
    "import scipy\n",
    "import scipy.stats\n",
    "import matplotlib\n",
    "import matplotlib.pyplot\n",
    "from joblib import dump, load\n",
    "from sklearn.neural_network import MLPClassifier\n",
    "from sklearn.model_selection import GridSearchCV\n",
    "from sklearn.neighbors import KernelDensity\n",
    "\n",
    "from calib import EMP\n",
    "%matplotlib inline"
   ]
  },
  {
   "cell_type": "code",
   "execution_count": null,
   "metadata": {},
   "outputs": [],
   "source": [
    "# specify the dataset settings (a mixutre of gaussian)\n",
    "\n",
    "pi = numpy.array([0.5, 0.5])\n",
    "ita_0 = numpy.array([0.5, 0.5])\n",
    "ita_1 = numpy.array([0.5, 0.5])\n",
    "mu_0_0 = numpy.array([4.0]) \n",
    "mu_0_1 = numpy.array([-64.0]) \n",
    "mu_1_0 = numpy.array([-4.0])\n",
    "mu_1_1 = numpy.array([72.0 ]) \n",
    "cov_0_0 = numpy.array([960.0])\n",
    "cov_0_1 = numpy.array([1280.0])\n",
    "cov_1_0 = numpy.array([980.0])\n",
    "cov_1_1 = numpy.array([1024.0])"
   ]
  },
  {
   "cell_type": "code",
   "execution_count": null,
   "metadata": {},
   "outputs": [],
   "source": [
    "# generate the feature and label samples\n",
    "\n",
    "N = 10000\n",
    "y = scipy.stats.multinomial.rvs(p=numpy.hstack([pi[0]*ita_0, pi[1]*ita_1]), size=N, n=1)\n",
    "x = [scipy.stats.multivariate_normal.rvs(mean=mu_0_0, cov=cov_0_0, size=N).reshape(-1, 1),\n",
    "     scipy.stats.multivariate_normal.rvs(mean=mu_0_1, cov=cov_0_1, size=N).reshape(-1, 1),\n",
    "     scipy.stats.multivariate_normal.rvs(mean=mu_1_0, cov=cov_1_0, size=N).reshape(-1, 1),\n",
    "     scipy.stats.multivariate_normal.rvs(mean=mu_1_1, cov=cov_1_1, size=N).reshape(-1, 1)]\n",
    "\n",
    "x = x[0] * y[:, 0].reshape(-1, 1) + x[1] * y[:, 1].reshape(-1, 1) + \\\n",
    "    x[2] * y[:, 2].reshape(-1, 1) + x[3] * y[:, 3].reshape(-1, 1)\n",
    "\n",
    "y = numpy.vstack([y[:, 0] + y[:, 1],\n",
    "                  y[:, 2] + y[:, 3]]).transpose()"
   ]
  },
  {
   "cell_type": "code",
   "execution_count": null,
   "metadata": {},
   "outputs": [],
   "source": [
    "# train a NN classifier \n",
    "# mdl = load('models/mlp.joblib')\n",
    "\n",
    "def test_prdict_proba(x, pi, ita_0, ita_1, mu_0_0, mu_0_1, mu_1_0, mu_1_1, cov_0_0, cov_0_1, cov_1_0, cov_1_1):\n",
    "    p_x_y = numpy.vstack([pi[0] * ita_0[0] * scipy.stats.multivariate_normal.pdf(x=x, mean=mu_0_0, cov=cov_0_0) +\n",
    "                          pi[1] * ita_0[1] * scipy.stats.multivariate_normal.pdf(x=x, mean=mu_0_1, cov=cov_0_1),\n",
    "                          pi[1] * ita_1[0] * scipy.stats.multivariate_normal.pdf(x=x, mean=mu_1_0, cov=cov_1_0) +\n",
    "                          pi[1] * ita_1[1] * scipy.stats.multivariate_normal.pdf(x=x, mean=mu_1_1, cov=cov_1_1)])\n",
    "    p_x =  numpy.sum(p_x_y, axis=0)\n",
    "    \n",
    "    res = numpy.transpose(p_x_y / p_x)\n",
    "    \n",
    "    res[:, 1] = numpy.clip((res[:, 1] - 0.5) * 2.0 + 0.5, 0, 1)\n",
    "    res[:, 0] = 1 - res[:, 1]\n",
    "    \n",
    "    mdl = load('../models/mlp.joblib')\n",
    "    res = mdl.predict_proba(x)\n",
    "\n",
    "    return res"
   ]
  },
  {
   "cell_type": "code",
   "execution_count": null,
   "metadata": {},
   "outputs": [],
   "source": [
    "# get predicted scores on samples\n",
    "# s = mdl.predict_proba(x)\n",
    "s = test_prdict_proba(x, pi, ita_0, ita_1, mu_0_0, mu_0_1, mu_1_0, mu_1_1, cov_0_0, cov_0_1, cov_1_0, cov_1_1)"
   ]
  },
  {
   "cell_type": "code",
   "execution_count": null,
   "metadata": {},
   "outputs": [],
   "source": [
    "# get predicted scores on an interval\n",
    "N_grid = 64\n",
    "edge = 160.0\n",
    "v_edge = 160.0\n",
    "x_mesh = numpy.linspace(-edge, edge, N_grid).reshape(-1, 1)\n",
    "# s_mesh = mdl.predict_proba(x_mesh)\n",
    "s_mesh = test_prdict_proba(x_mesh, pi, ita_0, ita_1, mu_0_0, mu_0_1, mu_1_0, mu_1_1, cov_0_0, cov_0_1, cov_1_0, cov_1_1)"
   ]
  },
  {
   "cell_type": "code",
   "execution_count": null,
   "metadata": {},
   "outputs": [],
   "source": [
    "# calculate the corresponding densities and probabilities\n",
    "\n",
    "p_x_y = numpy.vstack([pi[0] * ita_0[0] * scipy.stats.multivariate_normal.pdf(x=x_mesh, mean=mu_0_0, cov=cov_0_0) +\n",
    "                      pi[1] * ita_0[1] * scipy.stats.multivariate_normal.pdf(x=x_mesh, mean=mu_0_1, cov=cov_0_1),\n",
    "                      pi[1] * ita_1[0] * scipy.stats.multivariate_normal.pdf(x=x_mesh, mean=mu_1_0, cov=cov_1_0) +\n",
    "                      pi[1] * ita_1[1] * scipy.stats.multivariate_normal.pdf(x=x_mesh, mean=mu_1_1, cov=cov_1_1)])\n",
    "\n",
    "p_x =  numpy.sum(p_x_y, axis=0)\n",
    "\n",
    "p_true = p_x_y / p_x"
   ]
  },
  {
   "cell_type": "code",
   "execution_count": null,
   "metadata": {},
   "outputs": [],
   "source": [
    "# matplotlib.pyplot.figure(dpi=128, figsize=(5, 5))\n",
    "# matplotlib.pyplot.plot(x_mesh, s_mesh[:, 0], 'k', linewidth=3.0)\n",
    "# matplotlib.pyplot.plot(-x[y[:, 0]==1], numpy.zeros(numpy.sum(y[:, 0]==1)), 'bo', markersize=3, alpha=0.01)\n",
    "# matplotlib.pyplot.plot(-x[y[:, 0]==0], numpy.zeros(numpy.sum(y[:, 0]==0)), 'ro', markersize=3, alpha=0.01)\n",
    "# matplotlib.pyplot.ylim([0, 1])\n",
    "# matplotlib.pyplot.xlabel('x')\n",
    "# matplotlib.pyplot.ylabel('s')\n",
    "# matplotlib.pyplot.title('MLP: prediction')\n",
    "# matplotlib.pyplot.ylim([-0.05, 1.05])\n",
    "# matplotlib.pyplot.grid()"
   ]
  },
  {
   "cell_type": "code",
   "execution_count": null,
   "metadata": {
    "tags": [
     "outputPrepend"
    ]
   },
   "outputs": [],
   "source": [
    "N = int(4096)\n",
    "N_sim = int(1e4)\n",
    "\n",
    "p_s = numpy.zeros(N_grid-1)\n",
    "p_s_0 = numpy.zeros(N_grid-1)\n",
    "p_s_1 = numpy.zeros(N_grid-1)\n",
    "\n",
    "# p_s_hat = numpy.zeros(N_grid - 1)\n",
    "# p_s_0_hat = numpy.zeros(N_grid - 1)\n",
    "# p_s_1_hat = numpy.zeros(N_grid - 1)\n",
    "\n",
    "for i in tqdm.trange(0, N_sim):\n",
    "    tmp_y = scipy.stats.multinomial.rvs(p=numpy.hstack([pi[0]*ita_0, pi[1]*ita_1]), size=N, n=1)\n",
    "\n",
    "    tmp_x = [scipy.stats.multivariate_normal.rvs(mean=mu_0_0, cov=cov_0_0, size=N).reshape(-1, 1),\n",
    "             scipy.stats.multivariate_normal.rvs(mean=mu_0_1, cov=cov_0_1, size=N).reshape(-1, 1),\n",
    "             scipy.stats.multivariate_normal.rvs(mean=mu_1_0, cov=cov_1_0, size=N).reshape(-1, 1),\n",
    "             scipy.stats.multivariate_normal.rvs(mean=mu_1_1, cov=cov_1_1, size=N).reshape(-1, 1)]\n",
    "\n",
    "    tmp_x = tmp_x[0] * tmp_y[:, 0].reshape(-1, 1) + tmp_x[1] * tmp_y[:, 1].reshape(-1, 1) + \\\n",
    "            tmp_x[2] * tmp_y[:, 2].reshape(-1, 1) + tmp_x[3] * tmp_y[:, 3].reshape(-1, 1)\n",
    "\n",
    "    tmp_y = numpy.vstack([tmp_y[:, 0] + tmp_y[:, 1],\n",
    "                          tmp_y[:, 2] + tmp_y[:, 3]]).transpose()\n",
    "\n",
    "    # tmp_s = mdl.predict_proba(tmp_x)\n",
    "    tmp_s = test_prdict_proba(tmp_x, pi, ita_0, ita_1, mu_0_0, mu_0_1, mu_1_0, mu_1_1, cov_0_0, cov_0_1, cov_1_0, cov_1_1)\n",
    "    \n",
    "    # s_hat = cal.predict_proba(s)\n",
    "\n",
    "    p_s = p_s + numpy.histogram(tmp_s[:, 0], bins=numpy.linspace(0, 1, N_grid))[0]\n",
    "    p_s_0 = p_s_0 + numpy.histogram(tmp_s[tmp_y[:, 0]==1, 0], bins=numpy.linspace(0, 1, N_grid))[0]\n",
    "    p_s_1 = p_s_1 + numpy.histogram(tmp_s[tmp_y[:, 1]==1, 0], bins=numpy.linspace(0, 1, N_grid))[0]\n",
    "\n",
    "    # p_s_hat = p_s_hat + numpy.histogram(s_hat[:, 0], bins=numpy.linspace(0, 1, N_grid))[0]\n",
    "    # p_s_0_hat = p_s_0_hat + numpy.histogram(s_hat[y[:, 0]==1, 0], bins=numpy.linspace(0, 1, N_grid))[0]\n",
    "    # p_s_1_hat = p_s_1_hat + numpy.histogram(s_hat[y[:, 1]==1, 0], bins=numpy.linspace(0, 1, N_grid))[0]\n",
    "                                                    \n",
    "p_s = p_s + 1\n",
    "p_s_0 = p_s_0 + 1\n",
    "p_s_1 = p_s_1 + 1\n",
    "\n",
    "# p_s_hat = p_s_hat\n",
    "# p_s_0_hat = p_s_0_hat\n",
    "# p_s_1_hat = p_s_1_hat"
   ]
  },
  {
   "cell_type": "code",
   "execution_count": null,
   "metadata": {},
   "outputs": [],
   "source": [
    "# calculate related probabilities\n",
    "\n",
    "p_x_y_hat = numpy.vstack([pi[0] * p_s_0.ravel(),\n",
    "                          pi[1] * p_s_1.ravel()])\n",
    "\n",
    "p_x_hat =  numpy.sum(p_x_y_hat, axis=0)\n",
    "\n",
    "p_y_hat = p_x_y_hat / p_x_hat"
   ]
  },
  {
   "cell_type": "code",
   "execution_count": null,
   "metadata": {},
   "outputs": [],
   "source": [
    "# draw reliability diagram\n",
    "\n",
    "# matplotlib.pyplot.figure(dpi=128, figsize=(5, 5))\n",
    "# matplotlib.pyplot.plot(numpy.linspace(0, 1, N_grid-1), p_y_hat[0, :], 'k', linewidth=3)\n",
    "# matplotlib.pyplot.plot(s[y[:, 0]==1, 0], numpy.zeros(numpy.sum(y[:, 0]==1)), 'bo', markersize=3, alpha=0.01)\n",
    "# matplotlib.pyplot.plot(s[y[:, 0]==0, 0], numpy.zeros(numpy.sum(y[:, 0]==0)), 'ro', markersize=3, alpha=0.01)\n",
    "# matplotlib.pyplot.xlabel('s')\n",
    "# matplotlib.pyplot.ylabel('p(y=1 | s)')\n",
    "# matplotlib.pyplot.title('MLP: reliability diagram')\n",
    "# matplotlib.pyplot.grid()"
   ]
  },
  {
   "cell_type": "code",
   "execution_count": null,
   "metadata": {},
   "outputs": [],
   "source": [
    "cal = EMP()\n",
    "cal.fit(s, y)"
   ]
  },
  {
   "cell_type": "code",
   "execution_count": null,
   "metadata": {},
   "outputs": [],
   "source": [
    "s_mesh_hat = cal.predict_proba(s_mesh)"
   ]
  },
  {
   "cell_type": "code",
   "execution_count": null,
   "metadata": {},
   "outputs": [],
   "source": [
    "matplotlib.pyplot.figure(dpi=128, figsize=(5, 5))\n",
    "matplotlib.pyplot.plot(-x_mesh, s_mesh[:, 0], 'c', linewidth=3.0)\n",
    "matplotlib.pyplot.plot(-x_mesh, s_mesh_hat[:, 0], 'ks', markersize=3)\n",
    "matplotlib.pyplot.plot(-x_mesh, p_true[0], 'k', linewidth=3.0, alpha=0.25)\n",
    "matplotlib.pyplot.plot(-x[y[:, 0]==1], numpy.zeros(numpy.sum(y[:, 0]==1)) - 2e-2, 'bo', markersize=3, alpha=0.01)\n",
    "matplotlib.pyplot.plot(-x[y[:, 0]==0], numpy.zeros(numpy.sum(y[:, 0]==0)) - 4e-2, 'ro', markersize=3, alpha=0.01)\n",
    "# matplotlib.pyplot.ylim([0, 1])\n",
    "matplotlib.pyplot.xlabel('x')\n",
    "matplotlib.pyplot.ylabel('s')\n",
    "matplotlib.pyplot.title('Case3-EMP10: prediction')\n",
    "matplotlib.pyplot.ylim([-0.1, 1.1])\n",
    "matplotlib.pyplot.grid()\n",
    "matplotlib.pyplot.legend(['before calibration', 'after calibration', 'true model'])"
   ]
  },
  {
   "cell_type": "code",
   "execution_count": null,
   "metadata": {
    "tags": [
     "outputPrepend"
    ]
   },
   "outputs": [],
   "source": [
    "N = int(4096)\n",
    "N_sim = int(1e4)\n",
    "\n",
    "p_s_hat = numpy.zeros(N_grid-1)\n",
    "p_s_0_hat = numpy.zeros(N_grid-1)\n",
    "p_s_1_hat = numpy.zeros(N_grid-1)\n",
    "\n",
    "# p_s_hat = numpy.zeros(N_grid - 1)\n",
    "# p_s_0_hat = numpy.zeros(N_grid - 1)\n",
    "# p_s_1_hat = numpy.zeros(N_grid - 1)\n",
    "\n",
    "for i in tqdm.trange(0, N_sim):\n",
    "    tmp_y = scipy.stats.multinomial.rvs(p=numpy.hstack([pi[0]*ita_0, pi[1]*ita_1]), size=N, n=1)\n",
    "\n",
    "    tmp_x = [scipy.stats.multivariate_normal.rvs(mean=mu_0_0, cov=cov_0_0, size=N).reshape(-1, 1),\n",
    "             scipy.stats.multivariate_normal.rvs(mean=mu_0_1, cov=cov_0_1, size=N).reshape(-1, 1),\n",
    "             scipy.stats.multivariate_normal.rvs(mean=mu_1_0, cov=cov_1_0, size=N).reshape(-1, 1),\n",
    "             scipy.stats.multivariate_normal.rvs(mean=mu_1_1, cov=cov_1_1, size=N).reshape(-1, 1)]\n",
    "\n",
    "    tmp_x = tmp_x[0] * tmp_y[:, 0].reshape(-1, 1) + tmp_x[1] * tmp_y[:, 1].reshape(-1, 1) + \\\n",
    "            tmp_x[2] * tmp_y[:, 2].reshape(-1, 1) + tmp_x[3] * tmp_y[:, 3].reshape(-1, 1)\n",
    "\n",
    "    tmp_y = numpy.vstack([tmp_y[:, 0] + tmp_y[:, 1],\n",
    "                          tmp_y[:, 2] + tmp_y[:, 3]]).transpose()\n",
    "\n",
    "    # tmp_s = mdl.predict_proba(tmp_x)\n",
    "    tmp_s = test_prdict_proba(tmp_x, pi, ita_0, ita_1, mu_0_0, mu_0_1, mu_1_0, mu_1_1, cov_0_0, cov_0_1, cov_1_0, cov_1_1)\n",
    "    \n",
    "    tmp_s = cal.predict_proba(tmp_s)\n",
    "\n",
    "    p_s_hat = p_s_hat + numpy.histogram(tmp_s[:, 0], bins=numpy.linspace(0, 1, N_grid))[0]\n",
    "    p_s_0_hat = p_s_0_hat + numpy.histogram(tmp_s[tmp_y[:, 0]==1, 0], bins=numpy.linspace(0, 1, N_grid))[0]\n",
    "    p_s_1_hat = p_s_1_hat + numpy.histogram(tmp_s[tmp_y[:, 1]==1, 0], bins=numpy.linspace(0, 1, N_grid))[0]\n",
    "\n",
    "    # p_s_hat = p_s_hat + numpy.histogram(s_hat[:, 0], bins=numpy.linspace(0, 1, N_grid))[0]\n",
    "    # p_s_0_hat = p_s_0_hat + numpy.histogram(s_hat[y[:, 0]==1, 0], bins=numpy.linspace(0, 1, N_grid))[0]\n",
    "    # p_s_1_hat = p_s_1_hat + numpy.histogram(s_hat[y[:, 1]==1, 0], bins=numpy.linspace(0, 1, N_grid))[0]\n",
    "                                                    \n",
    "p_s_hat = p_s_hat\n",
    "p_s_0_hat = p_s_0_hat\n",
    "p_s_1_hat = p_s_1_hat\n",
    "\n",
    "# p_s_hat = p_s_hat\n",
    "# p_s_0_hat = p_s_0_hat\n",
    "# p_s_1_hat = p_s_1_hat"
   ]
  },
  {
   "cell_type": "code",
   "execution_count": null,
   "metadata": {},
   "outputs": [],
   "source": [
    "# calculate related probabilities\n",
    "\n",
    "p_x_y_hat = numpy.vstack([pi[0] * p_s_0_hat.ravel(),\n",
    "                          pi[1] * p_s_1_hat.ravel()])\n",
    "\n",
    "p_x_hat =  numpy.sum(p_x_y_hat, axis=0)\n",
    "\n",
    "p_y_hat_hat = p_x_y_hat / p_x_hat"
   ]
  },
  {
   "cell_type": "code",
   "execution_count": null,
   "metadata": {},
   "outputs": [],
   "source": [
    "# draw reliability diagram\n",
    "\n",
    "matplotlib.pyplot.figure(dpi=128, figsize=(5, 5))\n",
    "matplotlib.pyplot.plot(numpy.linspace(0, 1, N_grid-1), p_y_hat[0, :], 'cs', linewidth=3)\n",
    "matplotlib.pyplot.plot(numpy.linspace(0, 1, N_grid-1), p_y_hat_hat[0, :], 'ks', markersize=5)\n",
    "matplotlib.pyplot.plot(numpy.linspace(0, 1, N_grid-1), numpy.linspace(0, 1, N_grid-1), 'k', linewidth=3, alpha=0.5)\n",
    "matplotlib.pyplot.plot(s[y[:, 0]==1, 0], numpy.zeros(numpy.sum(y[:, 0]==1)) - 2e-2, 'bo', markersize=3, alpha=0.01)\n",
    "matplotlib.pyplot.plot(s[y[:, 0]==0, 0], numpy.zeros(numpy.sum(y[:, 0]==0)) - 4e-2, 'ro', markersize=3, alpha=0.01)\n",
    "matplotlib.pyplot.xlabel('s')\n",
    "matplotlib.pyplot.ylabel('p(y=1 | s)')\n",
    "matplotlib.pyplot.title('Case3-EMP10: reliability diagram')\n",
    "matplotlib.pyplot.grid()\n",
    "matplotlib.pyplot.legend(['before calibration', 'after calibration', 'calibrated reference'])"
   ]
  },
  {
   "cell_type": "code",
   "execution_count": null,
   "metadata": {},
   "outputs": [],
   "source": [
    "# draw calibration map\n",
    "\n",
    "s_list = numpy.linspace(1e-8, 1 - 1e-8, 1024)\n",
    "s_hat = cal.predict_proba(numpy.hstack([s_list.reshape(-1, 1), 1-s_list.reshape(-1, 1)]))\n",
    "\n",
    "matplotlib.pyplot.figure(dpi=128, figsize=(5, 5))\n",
    "matplotlib.pyplot.plot(s_list, s_hat[:, 0], 'ks', linewidth=5.0)\n",
    "matplotlib.pyplot.plot(s[y[:, 0]==1, 0], numpy.zeros(numpy.sum(y[:, 0]==1)) - 2e-2, 'bo', markersize=3, alpha=0.01)\n",
    "matplotlib.pyplot.plot(s[y[:, 0]==0, 0], numpy.zeros(numpy.sum(y[:, 0]==0)) - 4e-2, 'ro', markersize=3, alpha=0.01)\n",
    "matplotlib.pyplot.xlabel('s')\n",
    "matplotlib.pyplot.ylabel('s (after calibration)')\n",
    "matplotlib.pyplot.title('Case3-EMP10: calibration map')\n",
    "matplotlib.pyplot.ylim([-0.08, 1.01])\n",
    "matplotlib.pyplot.grid()"
   ]
  },
  {
   "cell_type": "code",
   "execution_count": null,
   "metadata": {},
   "outputs": [],
   "source": [
    "cal = EMP(n_bins=128)\n",
    "cal.fit(s, y)"
   ]
  },
  {
   "cell_type": "code",
   "execution_count": null,
   "metadata": {},
   "outputs": [],
   "source": [
    "s_mesh_hat = cal.predict_proba(s_mesh)"
   ]
  },
  {
   "cell_type": "code",
   "execution_count": null,
   "metadata": {},
   "outputs": [],
   "source": [
    "matplotlib.pyplot.figure(dpi=128, figsize=(5, 5))\n",
    "matplotlib.pyplot.plot(-x_mesh, s_mesh[:, 0], 'c', linewidth=3.0)\n",
    "matplotlib.pyplot.plot(-x_mesh, s_mesh_hat[:, 0], 'ks', markersize=3)\n",
    "matplotlib.pyplot.plot(-x_mesh, p_true[0], 'k', linewidth=3.0, alpha=0.25)\n",
    "matplotlib.pyplot.plot(-x[y[:, 0]==1], numpy.zeros(numpy.sum(y[:, 0]==1)) - 2e-2, 'bo', markersize=3, alpha=0.01)\n",
    "matplotlib.pyplot.plot(-x[y[:, 0]==0], numpy.zeros(numpy.sum(y[:, 0]==0)) - 4e-2, 'ro', markersize=3, alpha=0.01)\n",
    "# matplotlib.pyplot.ylim([0, 1])\n",
    "matplotlib.pyplot.xlabel('x')\n",
    "matplotlib.pyplot.ylabel('s')\n",
    "matplotlib.pyplot.title('MLP-EMP128: prediction')\n",
    "matplotlib.pyplot.ylim([-0.1, 1.1])\n",
    "matplotlib.pyplot.grid()\n",
    "matplotlib.pyplot.legend(['before calibration', 'after calibration', 'true model'])"
   ]
  },
  {
   "cell_type": "code",
   "execution_count": null,
   "metadata": {},
   "outputs": [],
   "source": [
    "N = int(4096)\n",
    "N_sim = int(1e4)\n",
    "\n",
    "p_s_hat = numpy.zeros(N_grid-1)\n",
    "p_s_0_hat = numpy.zeros(N_grid-1)\n",
    "p_s_1_hat = numpy.zeros(N_grid-1)\n",
    "\n",
    "# p_s_hat = numpy.zeros(N_grid - 1)\n",
    "# p_s_0_hat = numpy.zeros(N_grid - 1)\n",
    "# p_s_1_hat = numpy.zeros(N_grid - 1)\n",
    "\n",
    "for i in tqdm.trange(0, N_sim):\n",
    "    tmp_y = scipy.stats.multinomial.rvs(p=numpy.hstack([pi[0]*ita_0, pi[1]*ita_1]), size=N, n=1)\n",
    "\n",
    "    tmp_x = [scipy.stats.multivariate_normal.rvs(mean=mu_0_0, cov=cov_0_0, size=N).reshape(-1, 1),\n",
    "             scipy.stats.multivariate_normal.rvs(mean=mu_0_1, cov=cov_0_1, size=N).reshape(-1, 1),\n",
    "             scipy.stats.multivariate_normal.rvs(mean=mu_1_0, cov=cov_1_0, size=N).reshape(-1, 1),\n",
    "             scipy.stats.multivariate_normal.rvs(mean=mu_1_1, cov=cov_1_1, size=N).reshape(-1, 1)]\n",
    "\n",
    "    tmp_x = tmp_x[0] * tmp_y[:, 0].reshape(-1, 1) + tmp_x[1] * tmp_y[:, 1].reshape(-1, 1) + \\\n",
    "            tmp_x[2] * tmp_y[:, 2].reshape(-1, 1) + tmp_x[3] * tmp_y[:, 3].reshape(-1, 1)\n",
    "\n",
    "    tmp_y = numpy.vstack([tmp_y[:, 0] + tmp_y[:, 1],\n",
    "                          tmp_y[:, 2] + tmp_y[:, 3]]).transpose()\n",
    "\n",
    "    tmp_s = mdl.predict_proba(tmp_x)\n",
    "    \n",
    "    tmp_s = cal.predict_proba(tmp_s)\n",
    "\n",
    "    p_s_hat = p_s_hat + numpy.histogram(tmp_s[:, 0], bins=numpy.linspace(0, 1, N_grid))[0]\n",
    "    p_s_0_hat = p_s_0_hat + numpy.histogram(tmp_s[tmp_y[:, 0]==1, 0], bins=numpy.linspace(0, 1, N_grid))[0]\n",
    "    p_s_1_hat = p_s_1_hat + numpy.histogram(tmp_s[tmp_y[:, 1]==1, 0], bins=numpy.linspace(0, 1, N_grid))[0]\n",
    "\n",
    "    # p_s_hat = p_s_hat + numpy.histogram(s_hat[:, 0], bins=numpy.linspace(0, 1, N_grid))[0]\n",
    "    # p_s_0_hat = p_s_0_hat + numpy.histogram(s_hat[y[:, 0]==1, 0], bins=numpy.linspace(0, 1, N_grid))[0]\n",
    "    # p_s_1_hat = p_s_1_hat + numpy.histogram(s_hat[y[:, 1]==1, 0], bins=numpy.linspace(0, 1, N_grid))[0]\n",
    "                                                    \n",
    "p_s_hat = p_s_hat\n",
    "p_s_0_hat = p_s_0_hat\n",
    "p_s_1_hat = p_s_1_hat\n",
    "\n",
    "# p_s_hat = p_s_hat\n",
    "# p_s_0_hat = p_s_0_hat\n",
    "# p_s_1_hat = p_s_1_hat"
   ]
  },
  {
   "cell_type": "code",
   "execution_count": null,
   "metadata": {},
   "outputs": [],
   "source": [
    "# calculate related probabilities\n",
    "\n",
    "p_x_y_hat = numpy.vstack([pi[0] * p_s_0_hat.ravel(),\n",
    "                          pi[1] * p_s_1_hat.ravel()])\n",
    "\n",
    "p_x_hat =  numpy.sum(p_x_y_hat, axis=0)\n",
    "\n",
    "p_y_hat_hat = p_x_y_hat / p_x_hat"
   ]
  },
  {
   "cell_type": "code",
   "execution_count": null,
   "metadata": {},
   "outputs": [],
   "source": [
    "# draw reliability diagram\n",
    "\n",
    "matplotlib.pyplot.figure(dpi=128, figsize=(5, 5))\n",
    "matplotlib.pyplot.plot(numpy.linspace(0, 1, N_grid-1), p_y_hat[0, :], 'c', linewidth=3)\n",
    "matplotlib.pyplot.plot(numpy.linspace(0, 1, N_grid-1), p_y_hat_hat[0, :], 'ks', markersize=5)\n",
    "matplotlib.pyplot.plot(numpy.linspace(0, 1, N_grid-1), numpy.linspace(0, 1, N_grid-1), 'k', linewidth=3, alpha=0.5)\n",
    "matplotlib.pyplot.plot(s[y[:, 0]==1, 0], numpy.zeros(numpy.sum(y[:, 0]==1)) - 2e-2, 'bo', markersize=3, alpha=0.01)\n",
    "matplotlib.pyplot.plot(s[y[:, 0]==0, 0], numpy.zeros(numpy.sum(y[:, 0]==0)) - 4e-2, 'ro', markersize=3, alpha=0.01)\n",
    "matplotlib.pyplot.xlabel('s')\n",
    "matplotlib.pyplot.ylabel('p(y=1 | s)')\n",
    "matplotlib.pyplot.title('MLP-EMP128: reliability diagram')\n",
    "matplotlib.pyplot.grid()\n",
    "matplotlib.pyplot.legend(['before calibration', 'after calibration', 'calibrated reference'])"
   ]
  },
  {
   "cell_type": "code",
   "execution_count": null,
   "metadata": {},
   "outputs": [],
   "source": [
    "# draw calibration map\n",
    "\n",
    "s_list = numpy.linspace(1e-8, 1 - 1e-8, 1024)\n",
    "s_hat = cal.predict_proba(numpy.hstack([s_list.reshape(-1, 1), 1-s_list.reshape(-1, 1)]))\n",
    "\n",
    "matplotlib.pyplot.figure(dpi=128, figsize=(5, 5))\n",
    "matplotlib.pyplot.plot(s_list, s_hat[:, 0], 'ks', linewidth=5.0)\n",
    "matplotlib.pyplot.plot(s[y[:, 0]==1, 0], numpy.zeros(numpy.sum(y[:, 0]==1)) - 2e-2, 'bo', markersize=3, alpha=0.01)\n",
    "matplotlib.pyplot.plot(s[y[:, 0]==0, 0], numpy.zeros(numpy.sum(y[:, 0]==0)) - 4e-2, 'ro', markersize=3, alpha=0.01)\n",
    "matplotlib.pyplot.xlabel('s')\n",
    "matplotlib.pyplot.ylabel('s (after calibration)')\n",
    "matplotlib.pyplot.title('MLP-EMP128: calibration map')\n",
    "matplotlib.pyplot.grid()"
   ]
  },
  {
   "cell_type": "code",
   "execution_count": null,
   "metadata": {},
   "outputs": [],
   "source": []
  }
 ],
 "metadata": {
  "kernelspec": {
   "display_name": "Python 3",
   "language": "python",
   "name": "python3"
  },
  "language_info": {
   "codemirror_mode": {
    "name": "ipython",
    "version": 3
   },
   "file_extension": ".py",
   "mimetype": "text/x-python",
   "name": "python",
   "nbconvert_exporter": "python",
   "pygments_lexer": "ipython3",
   "version": "3.7.10-final"
  }
 },
 "nbformat": 4,
 "nbformat_minor": 4
}